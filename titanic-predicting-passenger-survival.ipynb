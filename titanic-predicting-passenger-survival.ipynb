{
 "cells": [
  {
   "cell_type": "markdown",
   "id": "ec843c03",
   "metadata": {
    "papermill": {
     "duration": 0.006815,
     "end_time": "2025-02-18T12:56:04.490733",
     "exception": false,
     "start_time": "2025-02-18T12:56:04.483918",
     "status": "completed"
    },
    "tags": []
   },
   "source": [
    "🗣 Vinicios Alves Ferreira  \n",
    "\n",
    "[1 Project Description](#1-Project-Description)      \n",
    "[1.1 The Goal](#1.1-The-Goal)  \n",
    "[1.2 Metric](#1.2-Metric)  \n",
    "[1.3 Dataset](#1.3-Dataset)  \n",
    "[2 Getting Started](#2-Getting-Started)  \n",
    "[3 Exploratory Data Analysis (EDA)](#3-Exploratory-Data-Analysis-(EDA))   \n",
    "[4 Pre Proccessing](#4-Pre-Processing)   \n",
    "[4.1 Data Cleaning](#4.1-Data-Cleaning)   \n",
    "[4.2 Feature Engineering](#4.2-Feature-Engineering)   \n",
    "[4.3 Feature Selection](#4.3-Feature-Selection)   \n",
    "[4.4 Train Test Split](#4.4-Train-Test-Split)   \n",
    "[5 Logistic Regression](#5-Logistic-Regression)   \n",
    "[5.1 Definition](#5.1-Definition)   \n",
    "[5.2 Theory](#5.2-Theory)   \n",
    "[5.3 Model Train Phase](#5.3-Model-Train-Phase)   \n",
    "[5.4 Model Test Phase](#5.4-Model-Test-Phase)   \n",
    "[6 Conclusion](#6-Conclusion)      \n",
    "\n",
    "------\n",
    "<center><img src=\"https://upload.wikimedia.org/wikipedia/commons/e/e1/Titanic_under_construction.jpg\" width=\"600px\"></center>\n",
    "\n",
    "------   "
   ]
  },
  {
   "cell_type": "markdown",
   "id": "f0b01118",
   "metadata": {
    "papermill": {
     "duration": 0.005797,
     "end_time": "2025-02-18T12:56:04.502776",
     "exception": false,
     "start_time": "2025-02-18T12:56:04.496979",
     "status": "completed"
    },
    "tags": []
   },
   "source": [
    "# 1 Project Description\n",
    "This project analyzes the factors that contributed to the high number of fatalities in the Titanic tragedy of 1912. Throughout the analysis, we will explore the dataset to understand its structure and the information provided by its features. We will formulate hypotheses, test them using Data Mining and Exploratory Data Analysis (EDA), and identify the most influential factors in passenger survival. Finally, we will apply Machine Learning models using an ML pipeline to evaluate whether our analysis is sufficient to achieve good accuracy in survival prediction.\n",
    "\n",
    "## 1.1 The Goal\n",
    "Our job is to predict if a passenger survived the sinking of the Titanic or not. With this description is clear that the most indicated ML algorithms to work are the “Classification Algorithms”, that include Logistic Regression, Decision Tree, Random Forest, SVM (Support Vector Machine, KNN (K-Nearest Neighbors), etc. \n",
    "\n",
    "## 1.2 Metric\n",
    "Our score is the percentage of passengers correctly predicted. This is known as accuracy, and because we are going to work with classification algorithms, the most indicate performance metrics are accuracy, precision, recall, F1 Score and AUC-ROC.\n",
    "\n",
    "## 1.3 Dataset\n",
    "This dataset contains two CSV files. The first one, train.csv, contains the data used to train the chosen Machine Learning algorithm. The Survived feature serves as the target variable, guiding the model to recognize patterns that determine whether a passenger survived or not.\n",
    "   \n",
    "The second file, test.csv, differs from the first because it does not include the Survived feature. The goal is to evaluate whether our trained algorithm can correctly identify survival patterns and make accurate predictions.\n",
    "   \n",
    "Below is a description of each feature in the dataset taken from the [Titanic - Machine Learning from Disaster (Dataset Description)](https://www.kaggle.com/c/titanic/data):\n",
    "\n",
    "\n",
    "| Variable  | Defnition | Key |\n",
    "| ------------- | ------------- | ------------- |\n",
    "| PassengerID  | Passenger id |   |\n",
    "| Survived  | Survival | 0 = No, 1 = Yes |\n",
    "| Pclass  | Ticket class | 1 = 1st, 2 = 2nd, 3 = 3rd  |\n",
    "| Name  | Passenger name |   |\n",
    "| Sex  | Sex |   |\n",
    "| Age  | Age in years |   |\n",
    "| SibSp  | # of siblings / spouses aboard the Titanic |   |\n",
    "| Parch | # of parents / children aboard the Titanic |   |\n",
    "| Ticket  | Ticket number |   |\n",
    "| Fare  | Passenger fare |   |\n",
    "| Cabin  | Cabin number |   |\n",
    "| Embarked  | Port of Embarkation | C = Cherbourg, Q = Queenstown, S = Southampton |\n",
    "\n",
    "**Variable Notes**\n",
    "> **pclass**: A proxy for socio-economic status (SES)   \n",
    "1st = Upper   \n",
    "2nd = Middle   \n",
    "3rd = Lower   \n",
    "**age**: Age is fractional if less than 1. If the age is estimated, is it in the form of xx.5   \n",
    "**sibsp**: The dataset defines family relations in this way...   \n",
    "Sibling = brother, sister, stepbrother, stepsister   \n",
    "Spouse = husband, wife (mistresses and fiancés were ignored)   \n",
    "**parch**: The dataset defines family relations in this way...   \n",
    "Parent = mother, father   \n",
    "Child = daughter, son, stepdaughter, stepson   \n",
    "Some children travelled only with a nanny, therefore parch=0 for them.   \n"
   ]
  },
  {
   "cell_type": "markdown",
   "id": "7547231f",
   "metadata": {
    "papermill": {
     "duration": 0.005681,
     "end_time": "2025-02-18T12:56:04.514373",
     "exception": false,
     "start_time": "2025-02-18T12:56:04.508692",
     "status": "completed"
    },
    "tags": []
   },
   "source": [
    "# 2 Getting Started\n",
    "First, we need to import both our dataset and the necessary Python libraries. Additionally, we will explore the dataset’s structure using fundamental Pandas methods to understand its characteristics. This initial exploration will help us identify missing values, data types, and potential preprocessing steps, guiding the next phases of our analysis."
   ]
  },
  {
   "cell_type": "code",
   "execution_count": 1,
   "id": "1d971d3d",
   "metadata": {
    "execution": {
     "iopub.execute_input": "2025-02-18T12:56:04.527702Z",
     "iopub.status.busy": "2025-02-18T12:56:04.527290Z",
     "iopub.status.idle": "2025-02-18T12:56:07.249413Z",
     "shell.execute_reply": "2025-02-18T12:56:07.248635Z"
    },
    "papermill": {
     "duration": 2.730956,
     "end_time": "2025-02-18T12:56:07.251342",
     "exception": false,
     "start_time": "2025-02-18T12:56:04.520386",
     "status": "completed"
    },
    "tags": []
   },
   "outputs": [],
   "source": [
    "# Importing the Libriries \n",
    "\n",
    "import pandas as pd\n",
    "import numpy as np\n",
    "import matplotlib.pyplot as plt\n",
    "import seaborn as sns\n",
    "from sklearn.linear_model import LogisticRegression\n",
    "from sklearn.metrics import accuracy_score\n",
    "import warnings\n",
    "warnings.simplefilter(action='ignore', category=FutureWarning)"
   ]
  },
  {
   "cell_type": "code",
   "execution_count": 2,
   "id": "4d6a14e7",
   "metadata": {
    "execution": {
     "iopub.execute_input": "2025-02-18T12:56:07.264893Z",
     "iopub.status.busy": "2025-02-18T12:56:07.264373Z",
     "iopub.status.idle": "2025-02-18T12:56:07.306580Z",
     "shell.execute_reply": "2025-02-18T12:56:07.305483Z"
    },
    "papermill": {
     "duration": 0.050727,
     "end_time": "2025-02-18T12:56:07.308379",
     "exception": false,
     "start_time": "2025-02-18T12:56:07.257652",
     "status": "completed"
    },
    "tags": []
   },
   "outputs": [
    {
     "name": "stdout",
     "output_type": "stream",
     "text": [
      "<class 'pandas.core.frame.DataFrame'>\n",
      "RangeIndex: 891 entries, 0 to 890\n",
      "Data columns (total 12 columns):\n",
      " #   Column       Non-Null Count  Dtype  \n",
      "---  ------       --------------  -----  \n",
      " 0   PassengerId  891 non-null    int64  \n",
      " 1   Survived     891 non-null    int64  \n",
      " 2   Pclass       891 non-null    int64  \n",
      " 3   Name         891 non-null    object \n",
      " 4   Sex          891 non-null    object \n",
      " 5   Age          714 non-null    float64\n",
      " 6   SibSp        891 non-null    int64  \n",
      " 7   Parch        891 non-null    int64  \n",
      " 8   Ticket       891 non-null    object \n",
      " 9   Fare         891 non-null    float64\n",
      " 10  Cabin        204 non-null    object \n",
      " 11  Embarked     889 non-null    object \n",
      "dtypes: float64(2), int64(5), object(5)\n",
      "memory usage: 83.7+ KB\n"
     ]
    }
   ],
   "source": [
    "# Importing the train.csv dataset\n",
    "\n",
    "train = pd.read_csv(\"/kaggle/input/titanic/train.csv\")\n",
    "train.info()"
   ]
  },
  {
   "cell_type": "markdown",
   "id": "8df1e28e",
   "metadata": {
    "papermill": {
     "duration": 0.005994,
     "end_time": "2025-02-18T12:56:07.320709",
     "exception": false,
     "start_time": "2025-02-18T12:56:07.314715",
     "status": "completed"
    },
    "tags": []
   },
   "source": [
    "-----\n",
    "With these information, there is some important points to comment.  \n",
    "1) For the nature of the float features we have, its possible to fill the NaN values with the mean of all the data;     \n",
    "2) The 'Cabin' feature has so many NaN values that dropping it is a possible action;     \n",
    "3) Emabarked NaN values can be replaced with the most incident value of the feature;      \n",
    "4) Some features has no importance alone, but they have some information that can be utilized if combined with others;      \n",
    "> **E.g. SibSP and Parch indicate that the individual is part of a Family**      \n",
    "\n",
    "5) There is also features that have valuable information inside them, like 'Name', where we can obtain the Civil State of the individuals.      "
   ]
  },
  {
   "cell_type": "markdown",
   "id": "63b1ce04",
   "metadata": {
    "papermill": {
     "duration": 0.005764,
     "end_time": "2025-02-18T12:56:07.332408",
     "exception": false,
     "start_time": "2025-02-18T12:56:07.326644",
     "status": "completed"
    },
    "tags": []
   },
   "source": [
    "# 3 Exploratory Data Analysis (EDA)\n",
    "\n",
    ">Due to compatibility issues when opening this notebook on Kaggle, the Exploratory Data Analysis (EDA) is not included here. However, you can find the full analysis on my GitHub:\n",
    ">\n",
    "> **Repository Link: https://github.com/viniferreira-dev/Titanic.git**"
   ]
  },
  {
   "cell_type": "markdown",
   "id": "74b7ea52",
   "metadata": {
    "papermill": {
     "duration": 0.00572,
     "end_time": "2025-02-18T12:56:07.343978",
     "exception": false,
     "start_time": "2025-02-18T12:56:07.338258",
     "status": "completed"
    },
    "tags": []
   },
   "source": [
    "# 4 Pre Processing\n",
    "After the analysis, it is time to prepare the data for training our Machine Learning model. Proper preprocessing is crucial to ensure that the model receives clean, well-structured data, improving its performance and generalization."
   ]
  },
  {
   "cell_type": "markdown",
   "id": "834ab870",
   "metadata": {
    "papermill": {
     "duration": 0.006116,
     "end_time": "2025-02-18T12:56:07.356050",
     "exception": false,
     "start_time": "2025-02-18T12:56:07.349934",
     "status": "completed"
    },
    "tags": []
   },
   "source": [
    "## 4.1 Data Cleaning\n",
    "The first step to process our data is cleaning all the features. This step involves handling missing values, correcting data entry mistakes, and identifying and removing outliers. Additionally, we standardize the format of categorical variables and address any discrepancies between different data sources."
   ]
  },
  {
   "cell_type": "code",
   "execution_count": 3,
   "id": "8df0eec6",
   "metadata": {
    "execution": {
     "iopub.execute_input": "2025-02-18T12:56:07.369477Z",
     "iopub.status.busy": "2025-02-18T12:56:07.369121Z",
     "iopub.status.idle": "2025-02-18T12:56:07.379271Z",
     "shell.execute_reply": "2025-02-18T12:56:07.378207Z"
    },
    "papermill": {
     "duration": 0.018591,
     "end_time": "2025-02-18T12:56:07.380749",
     "exception": false,
     "start_time": "2025-02-18T12:56:07.362158",
     "status": "completed"
    },
    "tags": []
   },
   "outputs": [
    {
     "name": "stdout",
     "output_type": "stream",
     "text": [
      "<class 'pandas.core.frame.DataFrame'>\n",
      "RangeIndex: 891 entries, 0 to 890\n",
      "Data columns (total 12 columns):\n",
      " #   Column       Non-Null Count  Dtype  \n",
      "---  ------       --------------  -----  \n",
      " 0   PassengerId  891 non-null    int64  \n",
      " 1   Survived     891 non-null    int64  \n",
      " 2   Pclass       891 non-null    int64  \n",
      " 3   Name         891 non-null    object \n",
      " 4   Sex          891 non-null    object \n",
      " 5   Age          714 non-null    float64\n",
      " 6   SibSp        891 non-null    int64  \n",
      " 7   Parch        891 non-null    int64  \n",
      " 8   Ticket       891 non-null    object \n",
      " 9   Fare         891 non-null    float64\n",
      " 10  Cabin        204 non-null    object \n",
      " 11  Embarked     889 non-null    object \n",
      "dtypes: float64(2), int64(5), object(5)\n",
      "memory usage: 83.7+ KB\n"
     ]
    }
   ],
   "source": [
    "train.info()"
   ]
  },
  {
   "cell_type": "code",
   "execution_count": 4,
   "id": "84719b82",
   "metadata": {
    "execution": {
     "iopub.execute_input": "2025-02-18T12:56:07.394674Z",
     "iopub.status.busy": "2025-02-18T12:56:07.394270Z",
     "iopub.status.idle": "2025-02-18T12:56:07.407164Z",
     "shell.execute_reply": "2025-02-18T12:56:07.406261Z"
    },
    "papermill": {
     "duration": 0.021747,
     "end_time": "2025-02-18T12:56:07.408857",
     "exception": false,
     "start_time": "2025-02-18T12:56:07.387110",
     "status": "completed"
    },
    "tags": []
   },
   "outputs": [
    {
     "name": "stdout",
     "output_type": "stream",
     "text": [
      "Age\n",
      "False    714\n",
      "True     177\n",
      "Name: count, dtype: int64\n",
      "----------------------------------------\n",
      "The age mean is: 29.7\n",
      "----------------------------------------\n",
      "Embarked\n",
      "False    889\n",
      "True       2\n",
      "Name: count, dtype: int64\n",
      "----------------------------------------\n",
      "The local of embarkation with more occurrences is: S\n",
      "----------------------------------------\n"
     ]
    }
   ],
   "source": [
    "print(train['Age'].isnull().value_counts())\n",
    "print(\"-\"*40)\n",
    "print(f\"The age mean is: {train['Age'].mean().round(2)}\")\n",
    "print(\"-\"*40)\n",
    "print(train['Embarked'].isnull().value_counts())\n",
    "print(\"-\"*40)\n",
    "print(f\"The local of embarkation with more occurrences is: {train['Embarked'].mode()[0]}\")\n",
    "print(\"-\"*40)"
   ]
  },
  {
   "cell_type": "code",
   "execution_count": 5,
   "id": "2a1c0040",
   "metadata": {
    "execution": {
     "iopub.execute_input": "2025-02-18T12:56:07.423137Z",
     "iopub.status.busy": "2025-02-18T12:56:07.422820Z",
     "iopub.status.idle": "2025-02-18T12:56:07.429173Z",
     "shell.execute_reply": "2025-02-18T12:56:07.428364Z"
    },
    "papermill": {
     "duration": 0.015111,
     "end_time": "2025-02-18T12:56:07.430734",
     "exception": false,
     "start_time": "2025-02-18T12:56:07.415623",
     "status": "completed"
    },
    "tags": []
   },
   "outputs": [],
   "source": [
    "# As in the most cases the age value is around its average, we are going to fill the NaN with this value\n",
    "train['Age'] = train['Age'].fillna(train['Age'].mean())\n",
    "\n",
    "# As in the most cases Embarked == \"S\", we are going to fill the NaN with this value\n",
    "train['Embarked']= train['Embarked'].fillna(\"S\")\n",
    "\n",
    "# By default the 'Fare' must also be filled in with its average\n",
    "train['Fare'] = train['Fare'].fillna(train['Fare'].mean())"
   ]
  },
  {
   "cell_type": "code",
   "execution_count": 6,
   "id": "1537fdcd",
   "metadata": {
    "execution": {
     "iopub.execute_input": "2025-02-18T12:56:07.444865Z",
     "iopub.status.busy": "2025-02-18T12:56:07.444483Z",
     "iopub.status.idle": "2025-02-18T12:56:07.454277Z",
     "shell.execute_reply": "2025-02-18T12:56:07.453323Z"
    },
    "papermill": {
     "duration": 0.018561,
     "end_time": "2025-02-18T12:56:07.456049",
     "exception": false,
     "start_time": "2025-02-18T12:56:07.437488",
     "status": "completed"
    },
    "tags": []
   },
   "outputs": [
    {
     "name": "stdout",
     "output_type": "stream",
     "text": [
      "<class 'pandas.core.frame.DataFrame'>\n",
      "RangeIndex: 891 entries, 0 to 890\n",
      "Data columns (total 12 columns):\n",
      " #   Column       Non-Null Count  Dtype  \n",
      "---  ------       --------------  -----  \n",
      " 0   PassengerId  891 non-null    int64  \n",
      " 1   Survived     891 non-null    int64  \n",
      " 2   Pclass       891 non-null    int64  \n",
      " 3   Name         891 non-null    object \n",
      " 4   Sex          891 non-null    object \n",
      " 5   Age          891 non-null    float64\n",
      " 6   SibSp        891 non-null    int64  \n",
      " 7   Parch        891 non-null    int64  \n",
      " 8   Ticket       891 non-null    object \n",
      " 9   Fare         891 non-null    float64\n",
      " 10  Cabin        204 non-null    object \n",
      " 11  Embarked     891 non-null    object \n",
      "dtypes: float64(2), int64(5), object(5)\n",
      "memory usage: 83.7+ KB\n"
     ]
    }
   ],
   "source": [
    "train.info()"
   ]
  },
  {
   "cell_type": "markdown",
   "id": "ce4ef509",
   "metadata": {
    "papermill": {
     "duration": 0.006222,
     "end_time": "2025-02-18T12:56:07.468852",
     "exception": false,
     "start_time": "2025-02-18T12:56:07.462630",
     "status": "completed"
    },
    "tags": []
   },
   "source": [
    "## 4.2 Feature Engineering\n",
    "Next, to achieve better performance in our predictions, we need to analyze our data and create new features that may reveal different correlations between the passengers' characteristics and the target feature, \"Survived.\" Additionally, it is necessary to transform some of our categorical features into numerical ones using the One-Hot-Encoding method. This process will allow the model to interpret categorical variables effectively, as machine learning algorithms typically perform better with numerical inputs. By engineering new features and encoding categorical variables, we can provide the model with more relevant and usable information, improving its ability to make accurate predictions."
   ]
  },
  {
   "cell_type": "code",
   "execution_count": 7,
   "id": "b4e12a9b",
   "metadata": {
    "execution": {
     "iopub.execute_input": "2025-02-18T12:56:07.482608Z",
     "iopub.status.busy": "2025-02-18T12:56:07.482237Z",
     "iopub.status.idle": "2025-02-18T12:56:07.496787Z",
     "shell.execute_reply": "2025-02-18T12:56:07.496000Z"
    },
    "papermill": {
     "duration": 0.02319,
     "end_time": "2025-02-18T12:56:07.498309",
     "exception": false,
     "start_time": "2025-02-18T12:56:07.475119",
     "status": "completed"
    },
    "tags": []
   },
   "outputs": [],
   "source": [
    "# Appllying  One-Hot-Encoding\n",
    "train = pd.get_dummies(train, columns=['Sex', 'Embarked'], drop_first=False)\n",
    "\n",
    "# Creating the feature 'FamilySize' as a sum of 'SibSp' and 'Parch'\n",
    "train['FamilySize'] = train['SibSp'] + train['Parch']\n",
    "\n",
    "# Creating the binary feature 'HasFamily' with the 'FamilySize' as a condition\n",
    "train['HasFamily'] = (train['FamilySize'] > 0).astype(int)"
   ]
  },
  {
   "cell_type": "markdown",
   "id": "efc19eea",
   "metadata": {
    "papermill": {
     "duration": 0.006046,
     "end_time": "2025-02-18T12:56:07.510960",
     "exception": false,
     "start_time": "2025-02-18T12:56:07.504914",
     "status": "completed"
    },
    "tags": []
   },
   "source": [
    "## 4.3 Feature Selection\n",
    "To ensure that our model only utilizes the necessary data to discover the best patterns, we need to select the most important features from our dataset. To improve the accuracy of our model, we will analyze the correlation between the features and the target feature using a correlation matrix.\n",
    "\n",
    "The correlation matrix helps us identify which features are strongly related to the target variable, as well as which features are highly correlated with each other. By understanding these relationships, we can eliminate redundant features and focus on the most informative ones, leading to better model performance and reduced complexity."
   ]
  },
  {
   "cell_type": "code",
   "execution_count": 8,
   "id": "30d29bbf",
   "metadata": {
    "execution": {
     "iopub.execute_input": "2025-02-18T12:56:07.524566Z",
     "iopub.status.busy": "2025-02-18T12:56:07.524214Z",
     "iopub.status.idle": "2025-02-18T12:56:08.170814Z",
     "shell.execute_reply": "2025-02-18T12:56:08.169772Z"
    },
    "papermill": {
     "duration": 0.656443,
     "end_time": "2025-02-18T12:56:08.173582",
     "exception": false,
     "start_time": "2025-02-18T12:56:07.517139",
     "status": "completed"
    },
    "tags": []
   },
   "outputs": [
    {
     "data": {
      "image/png": "[encoded data removed]",
      "text/plain": [
       "<Figure size 1200x800 with 2 Axes>"
      ]
     },
     "metadata": {},
     "output_type": "display_data"
    }
   ],
   "source": [
    "# Chosing what features should be utilized in the ML Model\n",
    "teste = ['Pclass',\n",
    "         'Sex_female',\n",
    "         'Sex_male', \n",
    "         'Embarked_C',\n",
    "         'Embarked_Q',\n",
    "         'Embarked_S',\n",
    "         'Age', \n",
    "         'Fare', \n",
    "         'FamilySize', \n",
    "         'HasFamily', \n",
    "         'Survived']\n",
    "\n",
    "# Calculating and ploting the correlation matrix\n",
    "corr_matrix = train[teste].corr(numeric_only=True)\n",
    "plt.figure(figsize=(12, 8))\n",
    "dataplot = sns.heatmap(corr_matrix, annot=True)\n",
    "plt.show()"
   ]
  },
  {
   "cell_type": "code",
   "execution_count": 9,
   "id": "7386b7dd",
   "metadata": {
    "execution": {
     "iopub.execute_input": "2025-02-18T12:56:08.194558Z",
     "iopub.status.busy": "2025-02-18T12:56:08.194171Z",
     "iopub.status.idle": "2025-02-18T12:56:08.199865Z",
     "shell.execute_reply": "2025-02-18T12:56:08.198886Z"
    },
    "papermill": {
     "duration": 0.017316,
     "end_time": "2025-02-18T12:56:08.201403",
     "exception": false,
     "start_time": "2025-02-18T12:56:08.184087",
     "status": "completed"
    },
    "tags": []
   },
   "outputs": [],
   "source": [
    "# Selecting the ML Model features\n",
    "features = [ 'Pclass','Sex_female','Embarked_S','Embarked_C', 'Fare','Age','FamilySize','HasFamily']\n",
    "X = train[features]  # Features\n",
    "y = train['Survived']  # Target"
   ]
  },
  {
   "cell_type": "markdown",
   "id": "91ccf9e5",
   "metadata": {
    "papermill": {
     "duration": 0.00875,
     "end_time": "2025-02-18T12:56:08.219248",
     "exception": false,
     "start_time": "2025-02-18T12:56:08.210498",
     "status": "completed"
    },
    "tags": []
   },
   "source": [
    "## 4.4 Train-Test-Split\n",
    "Now we are going to split the data in 'train.csv' into two sections: Train and Valid.\n",
    "\n",
    "This is a common process used to evaluate how well the model is learning to answer your questions. The data will be split into 80% for training and 20% for validation.\n",
    "\n",
    "- **X_train:** Contains the features (input data) used to train the model.\n",
    "- **X_valid:** Contains the features used to validate the model's performance on unseen data.\n",
    "- **y_train:** Contains the target variable (e.g., \"Survived\") for the training set, used for model learning.\n",
    "- **y_valid:** Contains the target variable (e.g., \"Survived\") for the validation set, used to evaluate the model's performance.  \n",
    "\n",
    "This split ensures that the model is not overfitting to the training data and can generalize well to new, unseen data.\n",
    "\n",
    "> If you want to learn more about overfitting and underfitting, check out: [ML | Underfitting and Overfitting](https://www.geeksforgeeks.org/underfitting-and-overfitting-in-machine-learning/)\n"
   ]
  },
  {
   "cell_type": "code",
   "execution_count": 10,
   "id": "897a074f",
   "metadata": {
    "execution": {
     "iopub.execute_input": "2025-02-18T12:56:08.238419Z",
     "iopub.status.busy": "2025-02-18T12:56:08.238071Z",
     "iopub.status.idle": "2025-02-18T12:56:08.245161Z",
     "shell.execute_reply": "2025-02-18T12:56:08.244182Z"
    },
    "papermill": {
     "duration": 0.018423,
     "end_time": "2025-02-18T12:56:08.246624",
     "exception": false,
     "start_time": "2025-02-18T12:56:08.228201",
     "status": "completed"
    },
    "tags": []
   },
   "outputs": [],
   "source": [
    "from sklearn.model_selection import train_test_split\n",
    "\n",
    "X_train, X_valid, y_train, y_valid = train_test_split(X, y, test_size=0.2, random_state=42)"
   ]
  },
  {
   "cell_type": "markdown",
   "id": "38a08c87",
   "metadata": {
    "papermill": {
     "duration": 0.008812,
     "end_time": "2025-02-18T12:56:08.264552",
     "exception": false,
     "start_time": "2025-02-18T12:56:08.255740",
     "status": "completed"
    },
    "tags": []
   },
   "source": [
    "# 5 Logistic Regression \n",
    "\n",
    "After analyzing our data, cleaning it, creating new features, applying one-hot encoding, and defining a train-test split, it is now time to apply a Machine Learning model that fits our main problem: determining whether a passenger survived (1) or did not survive (0).\n",
    "\n",
    "There are many models capable of handling this task, but classification models are generally more suitable for straightforward problems like this. Since we are working with binary classification (0 and 1), the chosen model is Logistic Regression, which is well-suited for this type of problem due to its ability to output probabilities and make clear distinctions between classes.\n",
    "\n",
    "> If you want to learn more about Linear Regression, access this N: [ML | Underfitting and Overfitting](https://www.geeksforgeeks.org/underfitting-and-overfitting-in-machine-learning/)\n",
    "\n",
    "\n",
    "\n",
    "## 5.1 Definition\n",
    "\n",
    "The Logistic Regression model is a machine learning algorithm that, given the input data from each feature, initial weights, and bias, computes predictions and compares them with the actual values in the target variable. By measuring the difference between predicted and actual values, the model updates the weights and bias iteratively, repeating this process until convergence.\n",
    "\n",
    "All outputs are probabilities, meaning they range between 0 and 1. To make final predictions, we apply a threshold function, converting probabilities into binary outputs (0 or 1).\n",
    "\n",
    "\n",
    "## 5.2 Theory\n",
    "\n",
    "The central idea of Logistic Regression is to transform a linear combination of input features into a probability. This linear combination is called the net input function, denoted as $z$ and it consists of the feature values $x_n$, their corresponding weights $w_n$ and a bias term $b$. We represent it in its expanded form as: $$z = w_1 x_1 + w_2 x_2 + \\dots + w_n x_n + b$$\n",
    "\n",
    "To obtain the probability from the net input function, we use an activation function called the Sigmoid Function. This function, denoted as $\\sigma(z)$, transforms the value of $z$ into a probability, indicating how likely a given instance belongs to a specific positive class (typically labeled as 1) based on the current feature values. The mathematical definition of the sigmoid function is: $$ \\sigma(z) = \\frac{1}{1 + e^{-z}} $$\n",
    ">Its outputs are restricted to a range between 0 and 1, which gives the function its probabilistic behavior. The estimated likelihood of belonging to the positive class (1) increases as the output gets closer to 1, while a value closer to 0 indicates a lower likelihood. Additionally, its S-shaped curve helps in visually analyzing the behavior of the function.\n",
    "\n",
    "With the probability obtained, the next step is to analyze how far this value is from the actual output of the target variable. To do this, we use a loss function called Binary Cross-Entropy (BCE), denoted mathematically as $\\mathcal{L}(y^{(i)}, \\hat{y}^{(i)})$.\n",
    "\n",
    "Binary Cross-Entropy measures the difference between two probabilities, which in our case are $\\hat{y}$ (the sigmoid output) and $y$ (target feature). Its formula is given by: $$\\mathcal{L}(y^{(i)}, \\hat{y}^{(i)}) = - \\left( y^{(i)} \\log(\\hat{y}^{(i)}) + (1 - y^{(i)}) \\log(1 - \\hat{y}^{(i)}) \\right)$$\n",
    "> If you want to learn more about how Binary Cross-Entropy works, check out: [Understanding binary cross-entropy / log loss: a visual explanation](https://medium.com/towards-data-science/understanding-binary-cross-entropy-log-loss-a-visual-explanation-a3ac6025181a)\n",
    "\n",
    "After computing the Binary Cross-Entropy (BCE), we can now determine the value of the Cost Function. This function quantifies how well the model is performing in relation to the target variable. The goal of our model is to minimize the cost function, which is achieved by adjusting the parameters $w$ (weights) and $b$ (bias).\n",
    "\n",
    "The cost function $J(w, b)$ is defined as the average loss across all training examples and is given by:  $$J(w, b) = \\frac{1}{m} \\sum_{i=1}^{m} \\mathcal{L}(y^{(i)}, \\hat{y}^{(i)})$$\n",
    "\n",
    "where:\n",
    "\n",
    "- $m$ is the total number of training examples.  \n",
    "\n",
    "- $\\mathcal{L}(y^{(i)}, \\hat{y}^{(i)})$ represents the loss for a single example, computed using Binary Cross-Entropy.   \n",
    "\n",
    "By minimizing $J(w, b)$, the model learns to make better predictions over time. This optimization is typically performed using Gradient Descent ($\\nabla J$), which iteratively updates the parameters to reduce the cost function to its minimum value. Additionally, a hyperparameter $α$, defined by the user, controls the learning rate. The values $w$ and $b$ are updated according to the following formulas:\n",
    "$$\n",
    "w_j := w_j - \\alpha \\frac{\\partial J}{\\partial w_j}\n",
    "$$\n",
    "$$\n",
    "b := b - \\alpha \\frac{\\partial J}{\\partial b}\n",
    "$$\n",
    "\n",
    "    "
   ]
  },
  {
   "cell_type": "markdown",
   "id": "0958bf66",
   "metadata": {
    "papermill": {
     "duration": 0.008882,
     "end_time": "2025-02-18T12:56:08.282571",
     "exception": false,
     "start_time": "2025-02-18T12:56:08.273689",
     "status": "completed"
    },
    "tags": []
   },
   "source": [
    "<center><img src=\"https://i.imgur.com/yhftAn0.png\" width=\"500px\"></center>    "
   ]
  },
  {
   "cell_type": "markdown",
   "id": "3d495472",
   "metadata": {
    "papermill": {
     "duration": 0.008696,
     "end_time": "2025-02-18T12:56:08.300298",
     "exception": false,
     "start_time": "2025-02-18T12:56:08.291602",
     "status": "completed"
    },
    "tags": []
   },
   "source": [
    " \n",
    "Finally, after all iterations, the predicted values $\\hat{y}^{(i)}$ are classified into binary outcomes using a threshold rule, typically set at 0.5, as follows:\n",
    "$$\n",
    "h(x) = \n",
    "\\begin{cases} \n",
    "1 & \\text{if } P(y=1|x) \\geq 0.5 \\\\\n",
    "0 & \\text{if } P(y=1|x) < 0.5 \n",
    "\\end{cases}\n",
    "$$\n",
    "Once the parameters are adjusted and the model is trained, it can be applied to other datasets to evaluate its performance on real-world cases.\n"
   ]
  },
  {
   "cell_type": "markdown",
   "id": "5744c6ed",
   "metadata": {
    "papermill": {
     "duration": 0.008791,
     "end_time": "2025-02-18T12:56:08.317976",
     "exception": false,
     "start_time": "2025-02-18T12:56:08.309185",
     "status": "completed"
    },
    "tags": []
   },
   "source": [
    "<center><img src=\"https://i.imgur.com/dGnvQyT.png\" width=\"600px\"></center>  "
   ]
  },
  {
   "cell_type": "markdown",
   "id": "8bea076a",
   "metadata": {
    "papermill": {
     "duration": 0.008517,
     "end_time": "2025-02-18T12:56:08.335431",
     "exception": false,
     "start_time": "2025-02-18T12:56:08.326914",
     "status": "completed"
    },
    "tags": []
   },
   "source": [
    "## 5.3 Model Train Phase\n",
    "Now that we have a solid understanding of how Logistic Regression works, it's time to apply this algorithm to our training dataset using the Scikit-learn library. This phase is crucial as it involves training the model on the dataset to learn the underlying patterns and relationships between the features and the target variable."
   ]
  },
  {
   "cell_type": "code",
   "execution_count": 11,
   "id": "497f79c4",
   "metadata": {
    "execution": {
     "iopub.execute_input": "2025-02-18T12:56:08.354487Z",
     "iopub.status.busy": "2025-02-18T12:56:08.354120Z",
     "iopub.status.idle": "2025-02-18T12:56:08.420778Z",
     "shell.execute_reply": "2025-02-18T12:56:08.419784Z"
    },
    "papermill": {
     "duration": 0.077995,
     "end_time": "2025-02-18T12:56:08.422344",
     "exception": false,
     "start_time": "2025-02-18T12:56:08.344349",
     "status": "completed"
    },
    "tags": []
   },
   "outputs": [
    {
     "data": {
      "text/html": [
       "<style>#sk-container-id-1 {color: black;background-color: white;}#sk-container-id-1 pre{padding: 0;}#sk-container-id-1 div.sk-toggleable {background-color: white;}#sk-container-id-1 label.sk-toggleable__label {cursor: pointer;display: block;width: 100%;margin-bottom: 0;padding: 0.3em;box-sizing: border-box;text-align: center;}#sk-container-id-1 label.sk-toggleable__label-arrow:before {content: \"▸\";float: left;margin-right: 0.25em;color: #696969;}#sk-container-id-1 label.sk-toggleable__label-arrow:hover:before {color: black;}#sk-container-id-1 div.sk-estimator:hover label.sk-toggleable__label-arrow:before {color: black;}#sk-container-id-1 div.sk-toggleable__content {max-height: 0;max-width: 0;overflow: hidden;text-align: left;background-color: #f0f8ff;}#sk-container-id-1 div.sk-toggleable__content pre {margin: 0.2em;color: black;border-radius: 0.25em;background-color: #f0f8ff;}#sk-container-id-1 input.sk-toggleable__control:checked~div.sk-toggleable__content {max-height: 200px;max-width: 100%;overflow: auto;}#sk-container-id-1 input.sk-toggleable__control:checked~label.sk-toggleable__label-arrow:before {content: \"▾\";}#sk-container-id-1 div.sk-estimator input.sk-toggleable__control:checked~label.sk-toggleable__label {background-color: #d4ebff;}#sk-container-id-1 div.sk-label input.sk-toggleable__control:checked~label.sk-toggleable__label {background-color: #d4ebff;}#sk-container-id-1 input.sk-hidden--visually {border: 0;clip: rect(1px 1px 1px 1px);clip: rect(1px, 1px, 1px, 1px);height: 1px;margin: -1px;overflow: hidden;padding: 0;position: absolute;width: 1px;}#sk-container-id-1 div.sk-estimator {font-family: monospace;background-color: #f0f8ff;border: 1px dotted black;border-radius: 0.25em;box-sizing: border-box;margin-bottom: 0.5em;}#sk-container-id-1 div.sk-estimator:hover {background-color: #d4ebff;}#sk-container-id-1 div.sk-parallel-item::after {content: \"\";width: 100%;border-bottom: 1px solid gray;flex-grow: 1;}#sk-container-id-1 div.sk-label:hover label.sk-toggleable__label {background-color: #d4ebff;}#sk-container-id-1 div.sk-serial::before {content: \"\";position: absolute;border-left: 1px solid gray;box-sizing: border-box;top: 0;bottom: 0;left: 50%;z-index: 0;}#sk-container-id-1 div.sk-serial {display: flex;flex-direction: column;align-items: center;background-color: white;padding-right: 0.2em;padding-left: 0.2em;position: relative;}#sk-container-id-1 div.sk-item {position: relative;z-index: 1;}#sk-container-id-1 div.sk-parallel {display: flex;align-items: stretch;justify-content: center;background-color: white;position: relative;}#sk-container-id-1 div.sk-item::before, #sk-container-id-1 div.sk-parallel-item::before {content: \"\";position: absolute;border-left: 1px solid gray;box-sizing: border-box;top: 0;bottom: 0;left: 50%;z-index: -1;}#sk-container-id-1 div.sk-parallel-item {display: flex;flex-direction: column;z-index: 1;position: relative;background-color: white;}#sk-container-id-1 div.sk-parallel-item:first-child::after {align-self: flex-end;width: 50%;}#sk-container-id-1 div.sk-parallel-item:last-child::after {align-self: flex-start;width: 50%;}#sk-container-id-1 div.sk-parallel-item:only-child::after {width: 0;}#sk-container-id-1 div.sk-dashed-wrapped {border: 1px dashed gray;margin: 0 0.4em 0.5em 0.4em;box-sizing: border-box;padding-bottom: 0.4em;background-color: white;}#sk-container-id-1 div.sk-label label {font-family: monospace;font-weight: bold;display: inline-block;line-height: 1.2em;}#sk-container-id-1 div.sk-label-container {text-align: center;}#sk-container-id-1 div.sk-container {/* jupyter's `normalize.less` sets `[hidden] { display: none; }` but bootstrap.min.css set `[hidden] { display: none !important; }` so we also need the `!important` here to be able to override the default hidden behavior on the sphinx rendered scikit-learn.org. See: https://github.com/scikit-learn/scikit-learn/issues/21755 */display: inline-block !important;position: relative;}#sk-container-id-1 div.sk-text-repr-fallback {display: none;}</style><div id=\"sk-container-id-1\" class=\"sk-top-container\"><div class=\"sk-text-repr-fallback\"><pre>LogisticRegression(max_iter=900)</pre><b>In a Jupyter environment, please rerun this cell to show the HTML representation or trust the notebook. <br />On GitHub, the HTML representation is unable to render, please try loading this page with nbviewer.org.</b></div><div class=\"sk-container\" hidden><div class=\"sk-item\"><div class=\"sk-estimator sk-toggleable\"><input class=\"sk-toggleable__control sk-hidden--visually\" id=\"sk-estimator-id-1\" type=\"checkbox\" checked><label for=\"sk-estimator-id-1\" class=\"sk-toggleable__label sk-toggleable__label-arrow\">LogisticRegression</label><div class=\"sk-toggleable__content\"><pre>LogisticRegression(max_iter=900)</pre></div></div></div></div></div>"
      ],
      "text/plain": [
       "LogisticRegression(max_iter=900)"
      ]
     },
     "execution_count": 11,
     "metadata": {},
     "output_type": "execute_result"
    }
   ],
   "source": [
    "from sklearn.linear_model import LogisticRegression\n",
    "\n",
    "# Inicializating and training the model\n",
    "\n",
    "model = LogisticRegression(max_iter=900)\n",
    "model.fit(X_train, y_train)"
   ]
  },
  {
   "cell_type": "code",
   "execution_count": 12,
   "id": "ebafd626",
   "metadata": {
    "execution": {
     "iopub.execute_input": "2025-02-18T12:56:08.442175Z",
     "iopub.status.busy": "2025-02-18T12:56:08.441846Z",
     "iopub.status.idle": "2025-02-18T12:56:08.449673Z",
     "shell.execute_reply": "2025-02-18T12:56:08.448765Z"
    },
    "papermill": {
     "duration": 0.01952,
     "end_time": "2025-02-18T12:56:08.451203",
     "exception": false,
     "start_time": "2025-02-18T12:56:08.431683",
     "status": "completed"
    },
    "tags": []
   },
   "outputs": [
    {
     "name": "stdout",
     "output_type": "stream",
     "text": [
      "Acurácia do modelo: 80.45%\n"
     ]
    }
   ],
   "source": [
    "from sklearn.metrics import accuracy_score\n",
    "\n",
    "# Making predictions\n",
    "y_pred = model.predict(X_valid)\n",
    "\n",
    "# Calculating the accuracy\n",
    "accuracy = accuracy_score(y_valid, y_pred)\n",
    "print(f'Acurácia do modelo: {accuracy * 100:.2f}%')"
   ]
  },
  {
   "cell_type": "code",
   "execution_count": 13,
   "id": "4c32e688",
   "metadata": {
    "execution": {
     "iopub.execute_input": "2025-02-18T12:56:08.471369Z",
     "iopub.status.busy": "2025-02-18T12:56:08.471019Z",
     "iopub.status.idle": "2025-02-18T12:56:08.513883Z",
     "shell.execute_reply": "2025-02-18T12:56:08.512850Z"
    },
    "papermill": {
     "duration": 0.054735,
     "end_time": "2025-02-18T12:56:08.515425",
     "exception": false,
     "start_time": "2025-02-18T12:56:08.460690",
     "status": "completed"
    },
    "tags": []
   },
   "outputs": [
    {
     "data": {
      "text/html": [
       "<style>#sk-container-id-2 {color: black;background-color: white;}#sk-container-id-2 pre{padding: 0;}#sk-container-id-2 div.sk-toggleable {background-color: white;}#sk-container-id-2 label.sk-toggleable__label {cursor: pointer;display: block;width: 100%;margin-bottom: 0;padding: 0.3em;box-sizing: border-box;text-align: center;}#sk-container-id-2 label.sk-toggleable__label-arrow:before {content: \"▸\";float: left;margin-right: 0.25em;color: #696969;}#sk-container-id-2 label.sk-toggleable__label-arrow:hover:before {color: black;}#sk-container-id-2 div.sk-estimator:hover label.sk-toggleable__label-arrow:before {color: black;}#sk-container-id-2 div.sk-toggleable__content {max-height: 0;max-width: 0;overflow: hidden;text-align: left;background-color: #f0f8ff;}#sk-container-id-2 div.sk-toggleable__content pre {margin: 0.2em;color: black;border-radius: 0.25em;background-color: #f0f8ff;}#sk-container-id-2 input.sk-toggleable__control:checked~div.sk-toggleable__content {max-height: 200px;max-width: 100%;overflow: auto;}#sk-container-id-2 input.sk-toggleable__control:checked~label.sk-toggleable__label-arrow:before {content: \"▾\";}#sk-container-id-2 div.sk-estimator input.sk-toggleable__control:checked~label.sk-toggleable__label {background-color: #d4ebff;}#sk-container-id-2 div.sk-label input.sk-toggleable__control:checked~label.sk-toggleable__label {background-color: #d4ebff;}#sk-container-id-2 input.sk-hidden--visually {border: 0;clip: rect(1px 1px 1px 1px);clip: rect(1px, 1px, 1px, 1px);height: 1px;margin: -1px;overflow: hidden;padding: 0;position: absolute;width: 1px;}#sk-container-id-2 div.sk-estimator {font-family: monospace;background-color: #f0f8ff;border: 1px dotted black;border-radius: 0.25em;box-sizing: border-box;margin-bottom: 0.5em;}#sk-container-id-2 div.sk-estimator:hover {background-color: #d4ebff;}#sk-container-id-2 div.sk-parallel-item::after {content: \"\";width: 100%;border-bottom: 1px solid gray;flex-grow: 1;}#sk-container-id-2 div.sk-label:hover label.sk-toggleable__label {background-color: #d4ebff;}#sk-container-id-2 div.sk-serial::before {content: \"\";position: absolute;border-left: 1px solid gray;box-sizing: border-box;top: 0;bottom: 0;left: 50%;z-index: 0;}#sk-container-id-2 div.sk-serial {display: flex;flex-direction: column;align-items: center;background-color: white;padding-right: 0.2em;padding-left: 0.2em;position: relative;}#sk-container-id-2 div.sk-item {position: relative;z-index: 1;}#sk-container-id-2 div.sk-parallel {display: flex;align-items: stretch;justify-content: center;background-color: white;position: relative;}#sk-container-id-2 div.sk-item::before, #sk-container-id-2 div.sk-parallel-item::before {content: \"\";position: absolute;border-left: 1px solid gray;box-sizing: border-box;top: 0;bottom: 0;left: 50%;z-index: -1;}#sk-container-id-2 div.sk-parallel-item {display: flex;flex-direction: column;z-index: 1;position: relative;background-color: white;}#sk-container-id-2 div.sk-parallel-item:first-child::after {align-self: flex-end;width: 50%;}#sk-container-id-2 div.sk-parallel-item:last-child::after {align-self: flex-start;width: 50%;}#sk-container-id-2 div.sk-parallel-item:only-child::after {width: 0;}#sk-container-id-2 div.sk-dashed-wrapped {border: 1px dashed gray;margin: 0 0.4em 0.5em 0.4em;box-sizing: border-box;padding-bottom: 0.4em;background-color: white;}#sk-container-id-2 div.sk-label label {font-family: monospace;font-weight: bold;display: inline-block;line-height: 1.2em;}#sk-container-id-2 div.sk-label-container {text-align: center;}#sk-container-id-2 div.sk-container {/* jupyter's `normalize.less` sets `[hidden] { display: none; }` but bootstrap.min.css set `[hidden] { display: none !important; }` so we also need the `!important` here to be able to override the default hidden behavior on the sphinx rendered scikit-learn.org. See: https://github.com/scikit-learn/scikit-learn/issues/21755 */display: inline-block !important;position: relative;}#sk-container-id-2 div.sk-text-repr-fallback {display: none;}</style><div id=\"sk-container-id-2\" class=\"sk-top-container\"><div class=\"sk-text-repr-fallback\"><pre>LogisticRegression(max_iter=900)</pre><b>In a Jupyter environment, please rerun this cell to show the HTML representation or trust the notebook. <br />On GitHub, the HTML representation is unable to render, please try loading this page with nbviewer.org.</b></div><div class=\"sk-container\" hidden><div class=\"sk-item\"><div class=\"sk-estimator sk-toggleable\"><input class=\"sk-toggleable__control sk-hidden--visually\" id=\"sk-estimator-id-2\" type=\"checkbox\" checked><label for=\"sk-estimator-id-2\" class=\"sk-toggleable__label sk-toggleable__label-arrow\">LogisticRegression</label><div class=\"sk-toggleable__content\"><pre>LogisticRegression(max_iter=900)</pre></div></div></div></div></div>"
      ],
      "text/plain": [
       "LogisticRegression(max_iter=900)"
      ]
     },
     "execution_count": 13,
     "metadata": {},
     "output_type": "execute_result"
    }
   ],
   "source": [
    "# Utilizing all the data in train.csv\n",
    "\n",
    "model_final = LogisticRegression(max_iter=900)\n",
    "model_final.fit(X, y)  "
   ]
  },
  {
   "cell_type": "markdown",
   "id": "78a6b999",
   "metadata": {
    "papermill": {
     "duration": 0.009262,
     "end_time": "2025-02-18T12:56:08.534375",
     "exception": false,
     "start_time": "2025-02-18T12:56:08.525113",
     "status": "completed"
    },
    "tags": []
   },
   "source": [
    "## 5.4 Model Test Phase\n",
    "Once the model has been trained, the next step is to evaluate its performance on the test dataset. This phase is critical to understanding how well the model generalizes to unseen data. Since the test dataset does not include the target variable during real-world application, we simulate this scenario by applying the same preprocessing steps used on the training data and then making predictions.\n"
   ]
  },
  {
   "cell_type": "code",
   "execution_count": 14,
   "id": "ffa35482",
   "metadata": {
    "execution": {
     "iopub.execute_input": "2025-02-18T12:56:08.554285Z",
     "iopub.status.busy": "2025-02-18T12:56:08.553926Z",
     "iopub.status.idle": "2025-02-18T12:56:08.655724Z",
     "shell.execute_reply": "2025-02-18T12:56:08.654892Z"
    },
    "papermill": {
     "duration": 0.113817,
     "end_time": "2025-02-18T12:56:08.657501",
     "exception": false,
     "start_time": "2025-02-18T12:56:08.543684",
     "status": "completed"
    },
    "tags": []
   },
   "outputs": [],
   "source": [
    "# Pre Processing\n",
    "test = pd.read_csv(\"/kaggle/input/titanic/test.csv\")\n",
    "test['Age'] = test['Age'].fillna(test['Age'].mean())\n",
    "test['Embarked'] = test['Embarked'].fillna(\"S\")\n",
    "test['Fare'] = test['Fare'].fillna(test['Fare'].mean())\n",
    "test = pd.get_dummies(test, columns=['Sex', 'Embarked'], drop_first=False)\n",
    "test['FamilySize'] = test['SibSp'] + test['Parch']\n",
    "test['HasFamily'] = (test['FamilySize'] > 0).astype(int)\n",
    "\n",
    "# Excluding collumns that will not be utilized\n",
    "test = test.drop(columns=[ \"Name\",\"Ticket\", \"Cabin\", \"PassengerId\", \"Parch\", \"SibSp\",\"Sex_male\",\"Embarked_Q\"])"
   ]
  },
  {
   "cell_type": "code",
   "execution_count": 15,
   "id": "3a6983f9",
   "metadata": {
    "execution": {
     "iopub.execute_input": "2025-02-18T12:56:08.678189Z",
     "iopub.status.busy": "2025-02-18T12:56:08.677865Z",
     "iopub.status.idle": "2025-02-18T12:56:08.684655Z",
     "shell.execute_reply": "2025-02-18T12:56:08.683707Z"
    },
    "papermill": {
     "duration": 0.018702,
     "end_time": "2025-02-18T12:56:08.686189",
     "exception": false,
     "start_time": "2025-02-18T12:56:08.667487",
     "status": "completed"
    },
    "tags": []
   },
   "outputs": [],
   "source": [
    "y_pred_test = model.predict(test[features])"
   ]
  },
  {
   "cell_type": "code",
   "execution_count": 16,
   "id": "6d132e9b",
   "metadata": {
    "execution": {
     "iopub.execute_input": "2025-02-18T12:56:08.706443Z",
     "iopub.status.busy": "2025-02-18T12:56:08.706133Z",
     "iopub.status.idle": "2025-02-18T12:56:08.725110Z",
     "shell.execute_reply": "2025-02-18T12:56:08.724335Z"
    },
    "papermill": {
     "duration": 0.030917,
     "end_time": "2025-02-18T12:56:08.726761",
     "exception": false,
     "start_time": "2025-02-18T12:56:08.695844",
     "status": "completed"
    },
    "tags": []
   },
   "outputs": [],
   "source": [
    "# Creating the archive for the Titanic dataset competition\n",
    "\n",
    "submission = pd.DataFrame({'PassengerId': pd.read_csv(\"/kaggle/input/titanic/test.csv\")['PassengerId'],\n",
    "                           'Survived': y_pred_test})\n",
    "submission.to_csv(\"submission.csv\", index=False)"
   ]
  },
  {
   "cell_type": "markdown",
   "id": "55efb955",
   "metadata": {
    "papermill": {
     "duration": 0.009735,
     "end_time": "2025-02-18T12:56:08.746268",
     "exception": false,
     "start_time": "2025-02-18T12:56:08.736533",
     "status": "completed"
    },
    "tags": []
   },
   "source": [
    "# 6 Conclusion\n",
    "\n",
    "After completing our analysis and predictions, we can conclude that the preprocessing steps and the Logistic Regression model were effective in constructing a reliable process for predicting the survival status of any passenger, even without a target variable. Throughout this work, some initial hypotheses were disproven, such as the assumption that older individuals were more susceptible to not surviving. However, we found a strong correlation between gender and survival probability, with female passengers having a significantly higher survival rate than male passengers.\n",
    "\n",
    "Additional features also played a crucial role in predicting the \"Survival\" variable, including those indicating family connections on board and, notably, the \"Pclass\" feature, which likely reflected the passenger's location during the incident.\n",
    "\n",
    "Our model achieved an accuracy of 77%, which is quite promising given the minimal hyperparameter tuning and the use of a relatively simple machine learning model. More sophisticated models, such as Random Forest, Gradient Boosting, or Neural Networks, could potentially enhance predictive performance further. Nonetheless, Logistic Regression provided valuable insights and a solid baseline for this classification problem."
   ]
  },
  {
   "cell_type": "markdown",
   "id": "409c7cb4",
   "metadata": {
    "papermill": {
     "duration": 0.009443,
     "end_time": "2025-02-18T12:56:08.765634",
     "exception": false,
     "start_time": "2025-02-18T12:56:08.756191",
     "status": "completed"
    },
    "tags": []
   },
   "source": [
    "-----\n",
    "### Thank you for taking the time to read this analysis! I hope you found it helpful. If you have any questions or spot any mistakes, feel free to send me a message!\n",
    "### 📌 LinkedIn: [Vinicios Alves Ferreira](https://www.linkedin.com/in/viniciosalves/)   "
   ]
  }
 ],
 "metadata": {
  "kaggle": {
   "accelerator": "none",
   "dataSources": [
    {
     "databundleVersionId": 26502,
     "sourceId": 3136,
     "sourceType": "competition"
    }
   ],
   "dockerImageVersionId": 30886,
   "isGpuEnabled": false,
   "isInternetEnabled": true,
   "language": "python",
   "sourceType": "notebook"
  },
  "kernelspec": {
   "display_name": "Python 3",
   "language": "python",
   "name": "python3"
  },
  "language_info": {
   "codemirror_mode": {
    "name": "ipython",
    "version": 3
   },
   "file_extension": ".py",
   "mimetype": "text/x-python",
   "name": "python",
   "nbconvert_exporter": "python",
   "pygments_lexer": "ipython3",
   "version": "3.10.12"
  },
  "papermill": {
   "default_parameters": {},
   "duration": 7.550512,
   "end_time": "2025-02-18T12:56:09.393788",
   "environment_variables": {},
   "exception": null,
   "input_path": "__notebook__.ipynb",
   "output_path": "__notebook__.ipynb",
   "parameters": {},
   "start_time": "2025-02-18T12:56:01.843276",
   "version": "2.6.0"
  }
 },
 "nbformat": 4,
 "nbformat_minor": 5
}
